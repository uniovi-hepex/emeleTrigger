{
 "cells": [
  {
   "cell_type": "code",
   "execution_count": 1,
   "id": "e7da1c85",
   "metadata": {},
   "outputs": [],
   "source": [
    "import torch\n",
    "import torch.nn.functional as F\n",
    "from torch_geometric.loader import DataLoader\n",
    "import os, sys"
   ]
  },
  {
   "cell_type": "code",
   "execution_count": null,
   "id": "b302013d",
   "metadata": {},
   "outputs": [],
   "source": [
    "root_file = \"../../data/MuGun_Displaced_v250409_Dumper_l1omtf_001.root\"\n",
    "\n",
    "mu_vars = ['muonQOverPt',\"muonQPt\"]\n",
    "st_vars =  ['stubEtaG', 'stubPhiG','stubR', 'stubLayer','stubType']\n",
    "in_vars =  ['inputStubEtaG', 'inputStubPhiG','inputStubR', 'inputStubLayer','inputStubType']\n",
    "\n",
    "sys.path.append(os.path.join(os.getcwd(), '..', 'tools/training'))\n",
    "\n",
    "from converter import *"
   ]
  },
  {
   "cell_type": "code",
   "execution_count": 3,
   "id": "8e99e7e0",
   "metadata": {},
   "outputs": [
    {
     "name": "stdout",
     "output_type": "stream",
     "text": [
      "[{eventNum: 45002, muonEvent: -2, muonPt: 3.81, muonEta: 0.297, ...}, ...]\n"
     ]
    },
    {
     "data": {
      "image/png": "[encoded data removed]",
      "text/plain": [
       "<Figure size 1000x600 with 1 Axes>"
      ]
     },
     "metadata": {},
     "output_type": "display_data"
    }
   ],
   "source": [
    "import uproot\n",
    "import awkward as ak\n",
    "import matplotlib.pyplot as plt\n",
    "\n",
    "file = uproot.open(root_file)\n",
    "tree = file[\"simOmtfPhase2Digis/OMTFHitsTree\"]\n",
    "arr = tree.arrays(library=\"ak\")\n",
    "\n",
    "print(arr)\n",
    "## Plot the inptuStubNo when stubNo is not 0\n",
    "filtered = arr[arr.stubNo != 0]\n",
    "\n",
    "# Verificar si la columna 'inputStubNo' existe\n",
    "if hasattr(filtered, \"inputStubNo\"):\n",
    "    # Convertir a numpy para poder graficar\n",
    "    values = ak.to_numpy(filtered.inputStubNo)\n",
    "    plt.figure(figsize=(10,6))\n",
    "    plt.hist(values, bins=50, alpha=0.7)\n",
    "    plt.xlabel(\"inputStubNo\")\n",
    "    plt.ylabel(\"Cantidad de eventos\")\n",
    "    plt.title(\"Histograma de inputStubNo (eventos con stubNo != 0)\")\n",
    "    plt.show()\n",
    "else:\n",
    "    print(\"La columna 'inputStubNo' no se encontró en el Awkward Array.\")\n"
   ]
  },
  {
   "cell_type": "code",
   "execution_count": 4,
   "id": "4b5428d4",
   "metadata": {},
   "outputs": [
    {
     "name": "stderr",
     "output_type": "stream",
     "text": [
      "c:\\Users\\folguerassantiago\\cernbox\\L1T\\INTREPID\\emeleTrigger\\pyenv_win\\Lib\\site-packages\\awkward\\_nplikes\\array_module.py:62: DeprecationWarning: NumPy will stop allowing conversion of out-of-bound Python integers to integer arrays.  The conversion of 192 to int8 will fail in the future.\n",
      "For the old behavior, usually:\n",
      "    np.array(value).astype(dtype)\n",
      "will give the desired result (the cast overflows).\n",
      "  return self._module.asarray(obj, dtype=dtype)\n",
      "c:\\Users\\folguerassantiago\\cernbox\\L1T\\INTREPID\\emeleTrigger\\pyenv_win\\Lib\\site-packages\\awkward\\_nplikes\\array_module.py:245: RuntimeWarning: invalid value encountered in divide\n",
      "  return impl(*broadcasted_args, **(kwargs or {}))\n"
     ]
    }
   ],
   "source": [
    "# incorporate new variables: \n",
    "arr['stubEtaG'] = arr['stubEta'] * HW_ETA_TO_ETA_FACTOR\n",
    "arr['stubPhiG'] = get_global_phi(arr['stubPhi'], arr['omtfProcessor'])  ## need to check this value!! (not sure it is OK)\n",
    "\n",
    "\n",
    "arr['inputStubEtaG'] = arr['inputStubEta'] * HW_ETA_TO_ETA_FACTOR\n",
    "arr['inputStubPhiG'] = get_global_phi(arr['inputStubPhi'], arr['omtfProcessor'])  ## need to check this value!! (not sure it is OK)\n",
    "\n",
    "arr['muonQPt'] = arr['muonCharge'] * arr['muonPt']\n",
    "arr['muonQOverPt'] = arr['muonCharge'] / arr['muonPt']"
   ]
  },
  {
   "cell_type": "code",
   "execution_count": null,
   "id": "1ec057ff",
   "metadata": {},
   "outputs": [
    {
     "name": "stdout",
     "output_type": "stream",
     "text": [
      "Processed 0 events\n",
      "Processed 0 events\n",
      "Processed 1000 events\n",
      "Processed 1000 events\n",
      "Processed 1000 events\n",
      "Processed 1000 events\n",
      "Processed 1000 events\n",
      "Processed 2000 events\n",
      "Processed 3000 events\n",
      "Processed 4000 events\n",
      "Processed 5000 events\n"
     ]
    }
   ],
   "source": [
    "from torch_geometric.data import Data\n",
    "\n",
    "events_processed = 0\n",
    "data_stub_list = []\n",
    "data_input_list = []\n",
    "\n",
    "def getDeltaPhi(phi1,phi2):\n",
    "    dphi = phi1 - phi2\n",
    "    dphi = (dphi + torch.pi) % (2 * torch.pi) - torch.pi\n",
    "    return dphi\n",
    "\n",
    "def getDeltaEta(eta1,eta2):\n",
    "    return eta1-eta2\n",
    "\n",
    "\n",
    "## Now loop over the events and create the dataset: \n",
    "for event in ak.to_list(arr):\n",
    "    if events_processed % 1000 == 0:\n",
    "        print(f\"Processed {events_processed} events\")\n",
    "\n",
    "    ## skip the event with no stubs or inputStubs: \n",
    "    if (event['stubNo']) == 0 or (event['inputStubNo']) == 0:\n",
    "        continue\n",
    "\n",
    "    node_features = torch.tensor([event[st] for st in st_vars], dtype=torch.float32).T\n",
    "\n",
    "    ## CREATE THE EDGES: \n",
    "    edge_index = []\n",
    "    edge_attr = []\n",
    "    for stub1Id,stub1Layer in enumerate(event['stubLayer']):\n",
    "        for stub2Id, stub2Layer in enumerate(event['stubLayer']):\n",
    "            if stub1Layer == stub2Layer: continue\n",
    "            if stub2Layer in getEdgesFromLogicLayer(stub1Layer):\n",
    "                dphi = getDeltaPhi(event['stubPhiG'][stub1Id],event['stubPhiG'][stub2Id])\n",
    "                deta = getDeltaEta(event['stubEtaG'][stub1Id],event['stubEtaG'][stub2Id])\n",
    "                edge_index.append([stub1Id, stub2Id])\n",
    "                edge_attr.append([dphi, deta])\n",
    "    \n",
    "    edge_index = torch.tensor(edge_index, dtype=torch.long).t().contiguous()\n",
    "    edge_attr = torch.tensor(edge_attr, dtype=torch.float)\n",
    "    \n",
    "    data = Data(x=node_features, edge_index=edge_index, edge_attr=edge_attr, y=torch.tensor([event[var] for var in mu_vars], dtype=torch.float))\n",
    "    data_stub_list.append(data)\n",
    "\n",
    "    # Now create the input stubs:\n",
    "    node_features = torch.tensor([event[in_var] for in_var in in_vars], dtype=torch.float32).T\n",
    "    edge_index = []\n",
    "    edge_attr = []\n",
    "\n",
    "    for stub1Id,stub1Layer in enumerate(event['inputStubLayer']):\n",
    "        for stub2Id, stub2Layer in enumerate(event['inputStubLayer']):\n",
    "            if stub1Layer == stub2Layer: continue\n",
    "            if stub2Layer in getEdgesFromLogicLayer(stub1Layer):\n",
    "                dphi = getDeltaPhi(event['inputStubPhiG'][stub1Id],event['inputStubPhiG'][stub2Id])\n",
    "                deta = getDeltaEta(event['inputStubEtaG'][stub1Id],event['inputStubEtaG'][stub2Id])\n",
    "                edge_index.append([stub1Id, stub2Id])\n",
    "                edge_attr.append([dphi, deta])\n",
    "    \n",
    "    edge_index = torch.tensor(edge_index, dtype=torch.long).t().contiguous()\n",
    "    edge_attr = torch.tensor(edge_attr, dtype=torch.float)\n",
    "\n",
    "    data = Data(x=node_features, edge_index=edge_index, edge_attr=edge_attr, y=torch.tensor([event[var] for var in mu_vars], dtype=torch.float))\n",
    "\n",
    "    data_input_list.append(data)\n",
    "\n",
    "    events_processed += 1"
   ]
  },
  {
   "cell_type": "code",
   "execution_count": null,
   "id": "2899f192",
   "metadata": {},
   "outputs": [
    {
     "name": "stdout",
     "output_type": "stream",
     "text": [
      "Number of stubs:  5017\n",
      "Number of input stubs:  5017\n",
      "Number of stubs in first event:  5\n",
      "Number of input stubs in first event:  6\n",
      "Number of edges in first event:  8\n",
      "Number of edges in first event:  12\n"
     ]
    }
   ],
   "source": [
    "#compare two datasets: \n",
    "print(\"Number of stubs: \", len(data_stub_list))\n",
    "print(\"Number of input stubs: \", len(data_input_list))\n",
    "print(\"Number of stubs in first event: \", len(data_stub_list[0].x))\n",
    "print(\"Number of input stubs in first event: \", len(data_input_list[0].x))\n",
    "print(\"Number of edges in first event: \", data_stub_list[0].edge_index.shape[1])\n",
    "print(\"Number of edges in first event: \", data_input_list[0].edge_index.shape[1])\n"
   ]
  }
 ],
 "metadata": {
  "kernelspec": {
   "display_name": "pyenv_win",
   "language": "python",
   "name": "python3"
  },
  "language_info": {
   "codemirror_mode": {
    "name": "ipython",
    "version": 3
   },
   "file_extension": ".py",
   "mimetype": "text/x-python",
   "name": "python",
   "nbconvert_exporter": "python",
   "pygments_lexer": "ipython3",
   "version": "3.12.10"
  }
 },
 "nbformat": 4,
 "nbformat_minor": 5
}
